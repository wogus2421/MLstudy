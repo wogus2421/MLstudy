{
 "cells": [
  {
   "cell_type": "code",
   "execution_count": 1,
   "metadata": {},
   "outputs": [],
   "source": [
    "import pandas as pd\n",
    "import numpy as np\n",
    "import tensorflow as tf\n",
    "from sklearn.utils import shuffle"
   ]
  },
  {
   "cell_type": "code",
   "execution_count": 110,
   "metadata": {},
   "outputs": [],
   "source": [
    "df = pd.read_csv('2/data/Tumor.csv')\n",
    "df = shuffle(df)\n",
    "hold_out_portion = 0.8\n"
   ]
  },
  {
   "cell_type": "code",
   "execution_count": 111,
   "metadata": {},
   "outputs": [
    {
     "name": "stdout",
     "output_type": "stream",
     "text": [
      "(569, 12) (569, 1)\n"
     ]
    }
   ],
   "source": [
    "# x_data = df.values[:, 2:-1]\n",
    "x_data = df.drop(['radius_worst', 'texture_worst', 'perimeter_worst', 'area_worst',\n",
    "                  'smoothness_worst', 'compactness_worst', 'concavity_worst', 'concave points_worst',\n",
    "                  'symmetry_worst', 'fractal_dimension_worst',\n",
    "                  'perimeter_mean', 'perimeter_se', 'area_mean', 'area_se',\n",
    "                  'concavity_mean', 'concavity_se', 'concave points_mean', 'concave points_se'], axis=1).values[:, 2:-1]\n",
    "y_data = np.array([df['diagnosis'].map({'M': 1, 'B': 0}).values]).transpose()\n",
    "print(x_data.shape, y_data.shape)"
   ]
  },
  {
   "cell_type": "code",
   "execution_count": 112,
   "metadata": {},
   "outputs": [],
   "source": [
    "hold_out_idx = int(x_data.shape[0] * hold_out_portion)\n",
    "train_x = x_data[0:hold_out_idx, :]\n",
    "train_y = y_data[0:hold_out_idx, :]\n",
    "test_x = x_data[hold_out_idx:, :]\n",
    "test_y = y_data[hold_out_idx:, :]"
   ]
  },
  {
   "cell_type": "code",
   "execution_count": 122,
   "metadata": {},
   "outputs": [],
   "source": [
    "X = tf.placeholder(tf.float32, shape=[None, x_data.shape[1]])\n",
    "Y = tf.placeholder(tf.float32, shape=[None, y_data.shape[1]])\n",
    "W = tf.Variable(tf.random_normal([x_data.shape[1], y_data.shape[1]]))\n",
    "b = tf.Variable(tf.random_normal([y_data.shape[1]]))\n",
    "mod = tf.matmul(X, W) + b\n",
    "hypothesis = tf.sigmoid(mod)\n",
    "# loss = -tf.reduce_mean(Y * tf.log(hypothesis)+(1-Y)*tf.log(1-hypothesis))\n",
    "loss = tf.reduce_mean(tf.nn.sigmoid_cross_entropy_with_logits(logits=mod, labels=Y))\n",
    "# optimizer = tf.train.GradientDescentOptimizer(learning_rate=1e-2)\n",
    "optimizer = tf.train.AdamOptimizer(learning_rate=1e-2)\n",
    "predicted = tf.round(hypothesis)\n",
    "accuracy = tf.reduce_mean(tf.cast(tf.equal(predicted, Y), tf.float32))\n",
    "\n",
    "train = optimizer.minimize(loss)"
   ]
  },
  {
   "cell_type": "code",
   "execution_count": 124,
   "metadata": {
    "collapsed": false
   },
   "outputs": [
    {
     "name": "stdout",
     "output_type": "stream",
     "text": [
      "0\ncost :  5.034316\nAccuracy:  0.62857145\nAccuracy:  0.622807\n"
     ]
    },
    {
     "name": "stdout",
     "output_type": "stream",
     "text": [
      "1000\ncost :  0.19099379\nAccuracy:  0.9208791\nAccuracy:  0.95614034\n"
     ]
    },
    {
     "name": "stdout",
     "output_type": "stream",
     "text": [
      "2000\ncost :  0.1633855\nAccuracy:  0.92747253\nAccuracy:  0.95614034\n"
     ]
    },
    {
     "name": "stdout",
     "output_type": "stream",
     "text": [
      "3000\ncost :  0.15267816\nAccuracy:  0.92747253\nAccuracy:  0.95614034\n"
     ]
    },
    {
     "name": "stdout",
     "output_type": "stream",
     "text": [
      "4000\ncost :  0.14773701\nAccuracy:  0.92747253\nAccuracy:  0.94736844\n"
     ]
    },
    {
     "name": "stdout",
     "output_type": "stream",
     "text": [
      "5000\ncost :  0.14510629\nAccuracy:  0.92967033\nAccuracy:  0.94736844\n"
     ]
    },
    {
     "name": "stdout",
     "output_type": "stream",
     "text": [
      "6000\ncost :  0.14382946\nAccuracy:  0.93626374\nAccuracy:  0.94736844\n"
     ]
    },
    {
     "name": "stdout",
     "output_type": "stream",
     "text": [
      "7000\ncost :  0.14566237\nAccuracy:  0.94505495\nAccuracy:  0.94736844\n"
     ]
    },
    {
     "name": "stdout",
     "output_type": "stream",
     "text": [
      "8000\ncost :  0.1426927\nAccuracy:  0.94285715\nAccuracy:  0.94736844\n"
     ]
    },
    {
     "name": "stdout",
     "output_type": "stream",
     "text": [
      "9000\ncost :  0.14239533\nAccuracy:  0.94285715\nAccuracy:  0.94736844\n"
     ]
    },
    {
     "name": "stdout",
     "output_type": "stream",
     "text": [
      "10000\ncost :  0.14218177\nAccuracy:  0.94505495\nAccuracy:  0.94736844\n"
     ]
    },
    {
     "name": "stdout",
     "output_type": "stream",
     "text": [
      "11000\ncost :  0.1423228\nAccuracy:  0.94505495\nAccuracy:  0.94736844\n"
     ]
    },
    {
     "name": "stdout",
     "output_type": "stream",
     "text": [
      "12000\ncost :  0.14189187\nAccuracy:  0.94505495\nAccuracy:  0.94736844\n"
     ]
    },
    {
     "name": "stdout",
     "output_type": "stream",
     "text": [
      "13000\ncost :  0.14192927\nAccuracy:  0.94285715\nAccuracy:  0.94736844\n"
     ]
    },
    {
     "name": "stdout",
     "output_type": "stream",
     "text": [
      "14000\ncost :  0.14170025\nAccuracy:  0.94505495\nAccuracy:  0.95614034\n"
     ]
    },
    {
     "name": "stdout",
     "output_type": "stream",
     "text": [
      "15000\ncost :  0.14162566\nAccuracy:  0.94505495\nAccuracy:  0.95614034\n"
     ]
    },
    {
     "name": "stdout",
     "output_type": "stream",
     "text": [
      "16000\ncost :  0.14156142\nAccuracy:  0.94285715\nAccuracy:  0.95614034\n"
     ]
    },
    {
     "name": "stdout",
     "output_type": "stream",
     "text": [
      "17000\ncost :  0.14150457\nAccuracy:  0.94285715\nAccuracy:  0.95614034\n"
     ]
    },
    {
     "name": "stdout",
     "output_type": "stream",
     "text": [
      "18000\ncost :  0.14145471\nAccuracy:  0.94285715\nAccuracy:  0.95614034\n"
     ]
    },
    {
     "name": "stdout",
     "output_type": "stream",
     "text": [
      "19000\ncost :  0.14141028\nAccuracy:  0.94285715\nAccuracy:  0.95614034\n"
     ]
    },
    {
     "name": "stdout",
     "output_type": "stream",
     "text": [
      "20000\ncost :  0.14137033\nAccuracy:  0.94065934\nAccuracy:  0.94736844\n"
     ]
    },
    {
     "name": "stdout",
     "output_type": "stream",
     "text": [
      "21000\ncost :  0.14133477\nAccuracy:  0.94065934\nAccuracy:  0.9385965\n"
     ]
    },
    {
     "name": "stdout",
     "output_type": "stream",
     "text": [
      "22000\ncost :  0.14131002\nAccuracy:  0.94065934\nAccuracy:  0.9385965\n"
     ]
    },
    {
     "name": "stdout",
     "output_type": "stream",
     "text": [
      "23000\ncost :  0.14129922\nAccuracy:  0.94285715\nAccuracy:  0.9385965\n"
     ]
    },
    {
     "name": "stdout",
     "output_type": "stream",
     "text": [
      "24000\ncost :  0.14124711\nAccuracy:  0.94065934\nAccuracy:  0.9385965\n"
     ]
    },
    {
     "name": "stdout",
     "output_type": "stream",
     "text": [
      "25000\ncost :  0.14122339\nAccuracy:  0.94065934\nAccuracy:  0.9385965\n"
     ]
    },
    {
     "name": "stdout",
     "output_type": "stream",
     "text": [
      "26000\ncost :  0.14120232\nAccuracy:  0.94065934\nAccuracy:  0.9385965\n"
     ]
    },
    {
     "name": "stdout",
     "output_type": "stream",
     "text": [
      "27000\ncost :  0.14118236\nAccuracy:  0.94065934\nAccuracy:  0.9385965\n"
     ]
    },
    {
     "name": "stdout",
     "output_type": "stream",
     "text": [
      "28000\ncost :  0.14116482\nAccuracy:  0.94065934\nAccuracy:  0.9385965\n"
     ]
    },
    {
     "name": "stdout",
     "output_type": "stream",
     "text": [
      "29000\ncost :  0.14114864\nAccuracy:  0.94065934\nAccuracy:  0.9385965\n"
     ]
    },
    {
     "name": "stdout",
     "output_type": "stream",
     "text": [
      "30000\ncost :  0.14113455\nAccuracy:  0.94065934\nAccuracy:  0.9385965\n"
     ]
    },
    {
     "name": "stdout",
     "output_type": "stream",
     "text": [
      "31000\ncost :  0.14112034\nAccuracy:  0.94065934\nAccuracy:  0.9385965\n"
     ]
    },
    {
     "name": "stdout",
     "output_type": "stream",
     "text": [
      "32000\ncost :  0.1411082\nAccuracy:  0.94065934\nAccuracy:  0.9385965\n"
     ]
    },
    {
     "name": "stdout",
     "output_type": "stream",
     "text": [
      "33000\ncost :  0.1410972\nAccuracy:  0.94065934\nAccuracy:  0.9385965\n"
     ]
    },
    {
     "name": "stdout",
     "output_type": "stream",
     "text": [
      "34000\ncost :  0.14108707\nAccuracy:  0.94065934\nAccuracy:  0.9385965\n"
     ]
    },
    {
     "name": "stdout",
     "output_type": "stream",
     "text": [
      "35000\ncost :  0.14107798\nAccuracy:  0.94065934\nAccuracy:  0.9385965\n"
     ]
    },
    {
     "name": "stdout",
     "output_type": "stream",
     "text": [
      "36000\ncost :  0.14106973\nAccuracy:  0.94065934\nAccuracy:  0.9385965\n"
     ]
    },
    {
     "name": "stdout",
     "output_type": "stream",
     "text": [
      "37000\ncost :  0.14106219\nAccuracy:  0.94065934\nAccuracy:  0.9385965\n"
     ]
    },
    {
     "name": "stdout",
     "output_type": "stream",
     "text": [
      "38000\ncost :  0.14105529\nAccuracy:  0.94065934\nAccuracy:  0.9385965\n"
     ]
    },
    {
     "name": "stdout",
     "output_type": "stream",
     "text": [
      "39000\ncost :  0.14104903\nAccuracy:  0.94065934\nAccuracy:  0.9385965\n"
     ]
    },
    {
     "name": "stdout",
     "output_type": "stream",
     "text": [
      "40000\ncost :  0.14104515\nAccuracy:  0.94065934\nAccuracy:  0.9385965\n"
     ]
    },
    {
     "name": "stdout",
     "output_type": "stream",
     "text": [
      "41000\ncost :  0.1412616\nAccuracy:  0.94065934\nAccuracy:  0.94736844\n"
     ]
    },
    {
     "name": "stdout",
     "output_type": "stream",
     "text": [
      "42000\ncost :  0.14103414\nAccuracy:  0.94285715\nAccuracy:  0.9385965\n"
     ]
    },
    {
     "name": "stdout",
     "output_type": "stream",
     "text": [
      "43000\ncost :  0.14162904\nAccuracy:  0.94505495\nAccuracy:  0.95614034\n"
     ]
    },
    {
     "name": "stdout",
     "output_type": "stream",
     "text": [
      "44000\ncost :  0.14115402\nAccuracy:  0.94065934\nAccuracy:  0.95614034\n"
     ]
    },
    {
     "name": "stdout",
     "output_type": "stream",
     "text": [
      "45000\ncost :  0.14102797\nAccuracy:  0.94065934\nAccuracy:  0.94736844\n"
     ]
    },
    {
     "name": "stdout",
     "output_type": "stream",
     "text": [
      "46000\ncost :  0.14140357\nAccuracy:  0.94505495\nAccuracy:  0.9385965\n"
     ]
    },
    {
     "name": "stdout",
     "output_type": "stream",
     "text": [
      "47000\ncost :  0.14105162\nAccuracy:  0.94065934\nAccuracy:  0.9385965\n"
     ]
    },
    {
     "name": "stdout",
     "output_type": "stream",
     "text": [
      "48000\ncost :  0.14107631\nAccuracy:  0.94065934\nAccuracy:  0.94736844\n"
     ]
    },
    {
     "name": "stdout",
     "output_type": "stream",
     "text": [
      "49000\ncost :  0.14101253\nAccuracy:  0.94065934\nAccuracy:  0.9385965\n"
     ]
    },
    {
     "name": "stdout",
     "output_type": "stream",
     "text": [
      "50000\ncost :  0.14103952\nAccuracy:  0.94505495\nAccuracy:  0.9385965\n"
     ]
    },
    {
     "name": "stdout",
     "output_type": "stream",
     "text": [
      "51000\ncost :  0.14109553\nAccuracy:  0.94065934\nAccuracy:  0.94736844\n"
     ]
    },
    {
     "name": "stdout",
     "output_type": "stream",
     "text": [
      "52000\ncost :  0.14139861\nAccuracy:  0.94505495\nAccuracy:  0.9385965\n"
     ]
    },
    {
     "name": "stdout",
     "output_type": "stream",
     "text": [
      "53000\ncost :  0.14148872\nAccuracy:  0.94505495\nAccuracy:  0.9385965\n"
     ]
    },
    {
     "name": "stdout",
     "output_type": "stream",
     "text": [
      "54000\ncost :  0.14140798\nAccuracy:  0.94505495\nAccuracy:  0.9385965\n"
     ]
    },
    {
     "name": "stdout",
     "output_type": "stream",
     "text": [
      "55000\ncost :  0.14102866\nAccuracy:  0.94505495\nAccuracy:  0.9385965\n"
     ]
    },
    {
     "name": "stdout",
     "output_type": "stream",
     "text": [
      "56000\ncost :  0.14166845\nAccuracy:  0.94505495\nAccuracy:  0.9385965\n"
     ]
    },
    {
     "name": "stdout",
     "output_type": "stream",
     "text": [
      "57000\ncost :  0.14131741\nAccuracy:  0.94285715\nAccuracy:  0.94736844\n"
     ]
    },
    {
     "name": "stdout",
     "output_type": "stream",
     "text": [
      "58000\ncost :  0.14099619\nAccuracy:  0.94285715\nAccuracy:  0.9385965\n"
     ]
    },
    {
     "name": "stdout",
     "output_type": "stream",
     "text": [
      "59000\ncost :  0.14099514\nAccuracy:  0.94285715\nAccuracy:  0.9385965\n"
     ]
    },
    {
     "name": "stdout",
     "output_type": "stream",
     "text": [
      "60000\ncost :  0.14099427\nAccuracy:  0.94285715\nAccuracy:  0.9385965\n"
     ]
    },
    {
     "name": "stdout",
     "output_type": "stream",
     "text": [
      "61000\ncost :  0.14099348\nAccuracy:  0.94285715\nAccuracy:  0.9385965\n"
     ]
    },
    {
     "name": "stdout",
     "output_type": "stream",
     "text": [
      "62000\ncost :  0.14099276\nAccuracy:  0.94285715\nAccuracy:  0.9385965\n"
     ]
    },
    {
     "name": "stdout",
     "output_type": "stream",
     "text": [
      "63000\ncost :  0.14099218\nAccuracy:  0.94285715\nAccuracy:  0.9385965\n"
     ]
    },
    {
     "name": "stdout",
     "output_type": "stream",
     "text": [
      "64000\ncost :  0.14099151\nAccuracy:  0.94285715\nAccuracy:  0.9385965\n"
     ]
    },
    {
     "name": "stdout",
     "output_type": "stream",
     "text": [
      "65000\ncost :  0.14099099\nAccuracy:  0.94285715\nAccuracy:  0.9385965\n"
     ]
    },
    {
     "name": "stdout",
     "output_type": "stream",
     "text": [
      "66000\ncost :  0.14099045\nAccuracy:  0.94285715\nAccuracy:  0.9385965\n"
     ]
    },
    {
     "name": "stdout",
     "output_type": "stream",
     "text": [
      "67000\ncost :  0.14586481\nAccuracy:  0.94725275\nAccuracy:  0.95614034\n"
     ]
    },
    {
     "name": "stdout",
     "output_type": "stream",
     "text": [
      "68000\ncost :  0.14098963\nAccuracy:  0.94285715\nAccuracy:  0.9385965\n"
     ]
    },
    {
     "name": "stdout",
     "output_type": "stream",
     "text": [
      "69000\ncost :  0.14106844\nAccuracy:  0.94065934\nAccuracy:  0.95614034\n"
     ]
    },
    {
     "name": "stdout",
     "output_type": "stream",
     "text": [
      "70000\ncost :  0.14098889\nAccuracy:  0.94285715\nAccuracy:  0.9385965\n"
     ]
    },
    {
     "name": "stdout",
     "output_type": "stream",
     "text": [
      "71000\ncost :  0.14098866\nAccuracy:  0.94285715\nAccuracy:  0.9385965\n"
     ]
    },
    {
     "name": "stdout",
     "output_type": "stream",
     "text": [
      "72000\ncost :  0.14098836\nAccuracy:  0.94285715\nAccuracy:  0.9385965\n"
     ]
    },
    {
     "name": "stdout",
     "output_type": "stream",
     "text": [
      "73000\ncost :  0.14098814\nAccuracy:  0.94285715\nAccuracy:  0.9385965\n"
     ]
    },
    {
     "name": "stdout",
     "output_type": "stream",
     "text": [
      "74000\ncost :  0.14098811\nAccuracy:  0.94285715\nAccuracy:  0.9385965\n"
     ]
    },
    {
     "name": "stdout",
     "output_type": "stream",
     "text": [
      "75000\ncost :  0.1409964\nAccuracy:  0.94285715\nAccuracy:  0.9385965\n"
     ]
    },
    {
     "name": "stdout",
     "output_type": "stream",
     "text": [
      "76000\ncost :  0.14104834\nAccuracy:  0.94065934\nAccuracy:  0.95614034\n"
     ]
    },
    {
     "name": "stdout",
     "output_type": "stream",
     "text": [
      "77000\ncost :  0.15097089\nAccuracy:  0.94285715\nAccuracy:  0.9649123\n"
     ]
    },
    {
     "name": "stdout",
     "output_type": "stream",
     "text": [
      "78000\ncost :  0.14102654\nAccuracy:  0.94065934\nAccuracy:  0.94736844\n"
     ]
    },
    {
     "name": "stdout",
     "output_type": "stream",
     "text": [
      "79000\ncost :  0.14100732\nAccuracy:  0.94505495\nAccuracy:  0.9385965\n"
     ]
    },
    {
     "name": "stdout",
     "output_type": "stream",
     "text": [
      "80000\ncost :  0.14098682\nAccuracy:  0.94285715\nAccuracy:  0.9385965\n"
     ]
    },
    {
     "name": "stdout",
     "output_type": "stream",
     "text": [
      "81000\ncost :  0.1409867\nAccuracy:  0.94285715\nAccuracy:  0.9385965\n"
     ]
    },
    {
     "name": "stdout",
     "output_type": "stream",
     "text": [
      "82000\ncost :  0.14098658\nAccuracy:  0.94285715\nAccuracy:  0.9385965\n"
     ]
    },
    {
     "name": "stdout",
     "output_type": "stream",
     "text": [
      "83000\ncost :  0.14098656\nAccuracy:  0.94285715\nAccuracy:  0.9385965\n"
     ]
    },
    {
     "name": "stdout",
     "output_type": "stream",
     "text": [
      "84000\ncost :  0.14098643\nAccuracy:  0.94285715\nAccuracy:  0.9385965\n"
     ]
    },
    {
     "name": "stdout",
     "output_type": "stream",
     "text": [
      "85000\ncost :  0.1409864\nAccuracy:  0.94285715\nAccuracy:  0.9385965\n"
     ]
    },
    {
     "name": "stdout",
     "output_type": "stream",
     "text": [
      "86000\ncost :  0.14098638\nAccuracy:  0.94285715\nAccuracy:  0.9385965\n"
     ]
    },
    {
     "name": "stdout",
     "output_type": "stream",
     "text": [
      "87000\ncost :  0.14099129\nAccuracy:  0.94065934\nAccuracy:  0.94736844\n"
     ]
    },
    {
     "name": "stdout",
     "output_type": "stream",
     "text": [
      "88000\ncost :  0.14132331\nAccuracy:  0.94505495\nAccuracy:  0.9385965\n"
     ]
    },
    {
     "name": "stdout",
     "output_type": "stream",
     "text": [
      "89000\ncost :  0.14810471\nAccuracy:  0.94725275\nAccuracy:  0.94736844\n"
     ]
    },
    {
     "name": "stdout",
     "output_type": "stream",
     "text": [
      "90000\ncost :  0.14112252\nAccuracy:  0.94065934\nAccuracy:  0.95614034\n"
     ]
    },
    {
     "name": "stdout",
     "output_type": "stream",
     "text": [
      "91000\ncost :  0.14098595\nAccuracy:  0.94285715\nAccuracy:  0.9385965\n"
     ]
    },
    {
     "name": "stdout",
     "output_type": "stream",
     "text": [
      "92000\ncost :  0.14098588\nAccuracy:  0.94285715\nAccuracy:  0.9385965\n"
     ]
    },
    {
     "name": "stdout",
     "output_type": "stream",
     "text": [
      "93000\ncost :  0.14098582\nAccuracy:  0.94285715\nAccuracy:  0.9385965\n"
     ]
    },
    {
     "name": "stdout",
     "output_type": "stream",
     "text": [
      "94000\ncost :  0.1409858\nAccuracy:  0.94285715\nAccuracy:  0.9385965\n"
     ]
    },
    {
     "name": "stdout",
     "output_type": "stream",
     "text": [
      "95000\ncost :  0.1409858\nAccuracy:  0.94285715\nAccuracy:  0.9385965\n"
     ]
    },
    {
     "name": "stdout",
     "output_type": "stream",
     "text": [
      "96000\ncost :  0.14098586\nAccuracy:  0.94285715\nAccuracy:  0.9385965\n"
     ]
    },
    {
     "name": "stdout",
     "output_type": "stream",
     "text": [
      "97000\ncost :  0.14098577\nAccuracy:  0.94285715\nAccuracy:  0.9385965\n"
     ]
    },
    {
     "name": "stdout",
     "output_type": "stream",
     "text": [
      "98000\ncost :  0.14098576\nAccuracy:  0.94285715\nAccuracy:  0.9385965\n"
     ]
    },
    {
     "name": "stdout",
     "output_type": "stream",
     "text": [
      "99000\ncost :  0.14098787\nAccuracy:  0.94285715\nAccuracy:  0.9385965\n"
     ]
    },
    {
     "name": "stdout",
     "output_type": "stream",
     "text": [
      "100000\ncost :  0.141114\nAccuracy:  0.94505495\nAccuracy:  0.9385965\n"
     ]
    },
    {
     "name": "stdout",
     "output_type": "stream",
     "text": [
      "101000\ncost :  0.14268662\nAccuracy:  0.94505495\nAccuracy:  0.9385965\n"
     ]
    },
    {
     "name": "stdout",
     "output_type": "stream",
     "text": [
      "102000\ncost :  0.1415862\nAccuracy:  0.94505495\nAccuracy:  0.9385965\n"
     ]
    },
    {
     "name": "stdout",
     "output_type": "stream",
     "text": [
      "103000\ncost :  0.14517322\nAccuracy:  0.94065934\nAccuracy:  0.9298246\n"
     ]
    },
    {
     "name": "stdout",
     "output_type": "stream",
     "text": [
      "104000\ncost :  0.1412198\nAccuracy:  0.94505495\nAccuracy:  0.9385965\n"
     ]
    },
    {
     "name": "stdout",
     "output_type": "stream",
     "text": [
      "105000\ncost :  0.14103886\nAccuracy:  0.94505495\nAccuracy:  0.9385965\n"
     ]
    },
    {
     "name": "stdout",
     "output_type": "stream",
     "text": [
      "106000\ncost :  0.14098561\nAccuracy:  0.94285715\nAccuracy:  0.9385965\n"
     ]
    },
    {
     "name": "stdout",
     "output_type": "stream",
     "text": [
      "107000\ncost :  0.14346476\nAccuracy:  0.94285715\nAccuracy:  0.9385965\n"
     ]
    },
    {
     "name": "stdout",
     "output_type": "stream",
     "text": [
      "108000\ncost :  0.14100899\nAccuracy:  0.94505495\nAccuracy:  0.9385965\n"
     ]
    },
    {
     "name": "stdout",
     "output_type": "stream",
     "text": [
      "109000\ncost :  0.1415429\nAccuracy:  0.94505495\nAccuracy:  0.95614034\n"
     ]
    },
    {
     "name": "stdout",
     "output_type": "stream",
     "text": [
      "110000\ncost :  0.14098573\nAccuracy:  0.94285715\nAccuracy:  0.9385965\n"
     ]
    },
    {
     "name": "stdout",
     "output_type": "stream",
     "text": [
      "111000\ncost :  0.14098555\nAccuracy:  0.94285715\nAccuracy:  0.9385965\n"
     ]
    },
    {
     "name": "stdout",
     "output_type": "stream",
     "text": [
      "112000\ncost :  0.1410051\nAccuracy:  0.94505495\nAccuracy:  0.9385965\n"
     ]
    },
    {
     "name": "stdout",
     "output_type": "stream",
     "text": [
      "113000\ncost :  0.14098553\nAccuracy:  0.94285715\nAccuracy:  0.9385965\n"
     ]
    },
    {
     "name": "stdout",
     "output_type": "stream",
     "text": [
      "114000\ncost :  0.14098562\nAccuracy:  0.94285715\nAccuracy:  0.9385965\n"
     ]
    },
    {
     "name": "stdout",
     "output_type": "stream",
     "text": [
      "115000\ncost :  0.14098553\nAccuracy:  0.94285715\nAccuracy:  0.9385965\n"
     ]
    },
    {
     "name": "stdout",
     "output_type": "stream",
     "text": [
      "116000\ncost :  0.14098556\nAccuracy:  0.94285715\nAccuracy:  0.9385965\n"
     ]
    },
    {
     "name": "stdout",
     "output_type": "stream",
     "text": [
      "117000\ncost :  0.1409856\nAccuracy:  0.94285715\nAccuracy:  0.9385965\n"
     ]
    },
    {
     "name": "stdout",
     "output_type": "stream",
     "text": [
      "118000\ncost :  0.14098555\nAccuracy:  0.94285715\nAccuracy:  0.9385965\n"
     ]
    },
    {
     "name": "stdout",
     "output_type": "stream",
     "text": [
      "119000\ncost :  0.14098556\nAccuracy:  0.94285715\nAccuracy:  0.9385965\n"
     ]
    },
    {
     "name": "stdout",
     "output_type": "stream",
     "text": [
      "120000\ncost :  0.14098558\nAccuracy:  0.94285715\nAccuracy:  0.9385965\n"
     ]
    },
    {
     "name": "stdout",
     "output_type": "stream",
     "text": [
      "121000\ncost :  0.1409855\nAccuracy:  0.94285715\nAccuracy:  0.9385965\n"
     ]
    },
    {
     "name": "stdout",
     "output_type": "stream",
     "text": [
      "122000\ncost :  0.14098556\nAccuracy:  0.94285715\nAccuracy:  0.9385965\n"
     ]
    },
    {
     "name": "stdout",
     "output_type": "stream",
     "text": [
      "123000\ncost :  0.1412011\nAccuracy:  0.94505495\nAccuracy:  0.9385965\n"
     ]
    },
    {
     "name": "stdout",
     "output_type": "stream",
     "text": [
      "124000\ncost :  0.14098549\nAccuracy:  0.94285715\nAccuracy:  0.9385965\n"
     ]
    },
    {
     "name": "stdout",
     "output_type": "stream",
     "text": [
      "125000\ncost :  0.14098734\nAccuracy:  0.94285715\nAccuracy:  0.9385965\n"
     ]
    },
    {
     "name": "stdout",
     "output_type": "stream",
     "text": [
      "126000\ncost :  0.14098558\nAccuracy:  0.94285715\nAccuracy:  0.9385965\n"
     ]
    },
    {
     "name": "stdout",
     "output_type": "stream",
     "text": [
      "127000\ncost :  0.1409859\nAccuracy:  0.94065934\nAccuracy:  0.9385965\n"
     ]
    },
    {
     "name": "stdout",
     "output_type": "stream",
     "text": [
      "128000\ncost :  0.14098561\nAccuracy:  0.94285715\nAccuracy:  0.9385965\n"
     ]
    },
    {
     "name": "stdout",
     "output_type": "stream",
     "text": [
      "129000\ncost :  0.14098555\nAccuracy:  0.94285715\nAccuracy:  0.9385965\n"
     ]
    },
    {
     "name": "stdout",
     "output_type": "stream",
     "text": [
      "130000\ncost :  0.14098553\nAccuracy:  0.94285715\nAccuracy:  0.9385965\n"
     ]
    },
    {
     "name": "stdout",
     "output_type": "stream",
     "text": [
      "131000\ncost :  0.14098556\nAccuracy:  0.94285715\nAccuracy:  0.9385965\n"
     ]
    },
    {
     "name": "stdout",
     "output_type": "stream",
     "text": [
      "132000\ncost :  0.14098547\nAccuracy:  0.94285715\nAccuracy:  0.9385965\n"
     ]
    },
    {
     "name": "stdout",
     "output_type": "stream",
     "text": [
      "133000\ncost :  0.14098549\nAccuracy:  0.94285715\nAccuracy:  0.9385965\n"
     ]
    },
    {
     "name": "stdout",
     "output_type": "stream",
     "text": [
      "134000\ncost :  0.14098556\nAccuracy:  0.94285715\nAccuracy:  0.9385965\n"
     ]
    },
    {
     "name": "stdout",
     "output_type": "stream",
     "text": [
      "135000\ncost :  0.14098549\nAccuracy:  0.94285715\nAccuracy:  0.9385965\n"
     ]
    },
    {
     "name": "stdout",
     "output_type": "stream",
     "text": [
      "136000\ncost :  0.14098562\nAccuracy:  0.94285715\nAccuracy:  0.9385965\n"
     ]
    },
    {
     "name": "stdout",
     "output_type": "stream",
     "text": [
      "137000\ncost :  0.14132279\nAccuracy:  0.94505495\nAccuracy:  0.9385965\n"
     ]
    },
    {
     "name": "stdout",
     "output_type": "stream",
     "text": [
      "138000\ncost :  0.14102463\nAccuracy:  0.94505495\nAccuracy:  0.9385965\n"
     ]
    },
    {
     "name": "stdout",
     "output_type": "stream",
     "text": [
      "139000\ncost :  0.14098671\nAccuracy:  0.94285715\nAccuracy:  0.9385965\n"
     ]
    },
    {
     "name": "stdout",
     "output_type": "stream",
     "text": [
      "140000\ncost :  0.14108701\nAccuracy:  0.94505495\nAccuracy:  0.9385965\n"
     ]
    },
    {
     "name": "stdout",
     "output_type": "stream",
     "text": [
      "141000\ncost :  0.14134736\nAccuracy:  0.94505495\nAccuracy:  0.9385965\n"
     ]
    },
    {
     "name": "stdout",
     "output_type": "stream",
     "text": [
      "142000\ncost :  0.14124443\nAccuracy:  0.94505495\nAccuracy:  0.9385965\n"
     ]
    },
    {
     "name": "stdout",
     "output_type": "stream",
     "text": [
      "143000\ncost :  0.14748329\nAccuracy:  0.94505495\nAccuracy:  0.94736844\n"
     ]
    },
    {
     "name": "stdout",
     "output_type": "stream",
     "text": [
      "144000\ncost :  0.14098546\nAccuracy:  0.94285715\nAccuracy:  0.9385965\n"
     ]
    },
    {
     "name": "stdout",
     "output_type": "stream",
     "text": [
      "145000\ncost :  0.14098556\nAccuracy:  0.94285715\nAccuracy:  0.9385965\n"
     ]
    },
    {
     "name": "stdout",
     "output_type": "stream",
     "text": [
      "146000\ncost :  0.14098556\nAccuracy:  0.94285715\nAccuracy:  0.9385965\n"
     ]
    },
    {
     "name": "stdout",
     "output_type": "stream",
     "text": [
      "147000\ncost :  0.14098626\nAccuracy:  0.94065934\nAccuracy:  0.9385965\n"
     ]
    },
    {
     "name": "stdout",
     "output_type": "stream",
     "text": [
      "148000\ncost :  0.14099552\nAccuracy:  0.94065934\nAccuracy:  0.9385965\n"
     ]
    },
    {
     "name": "stdout",
     "output_type": "stream",
     "text": [
      "149000\ncost :  0.14098674\nAccuracy:  0.94285715\nAccuracy:  0.9385965\n"
     ]
    },
    {
     "name": "stdout",
     "output_type": "stream",
     "text": [
      "150000\ncost :  0.14132509\nAccuracy:  0.94285715\nAccuracy:  0.9385965\n"
     ]
    },
    {
     "name": "stdout",
     "output_type": "stream",
     "text": [
      "151000\ncost :  0.14165697\nAccuracy:  0.94505495\nAccuracy:  0.9385965\n"
     ]
    },
    {
     "name": "stdout",
     "output_type": "stream",
     "text": [
      "152000\ncost :  0.14098549\nAccuracy:  0.94285715\nAccuracy:  0.9385965\n"
     ]
    },
    {
     "name": "stdout",
     "output_type": "stream",
     "text": [
      "153000\ncost :  0.14098546\nAccuracy:  0.94285715\nAccuracy:  0.9385965\n"
     ]
    },
    {
     "name": "stdout",
     "output_type": "stream",
     "text": [
      "154000\ncost :  0.14098547\nAccuracy:  0.94285715\nAccuracy:  0.9385965\n"
     ]
    },
    {
     "name": "stdout",
     "output_type": "stream",
     "text": [
      "155000\ncost :  0.1409881\nAccuracy:  0.94285715\nAccuracy:  0.9385965\n"
     ]
    },
    {
     "name": "stdout",
     "output_type": "stream",
     "text": [
      "156000\ncost :  0.1409859\nAccuracy:  0.94285715\nAccuracy:  0.9385965\n"
     ]
    },
    {
     "name": "stdout",
     "output_type": "stream",
     "text": [
      "157000\ncost :  0.14098574\nAccuracy:  0.94065934\nAccuracy:  0.9385965\n"
     ]
    },
    {
     "name": "stdout",
     "output_type": "stream",
     "text": [
      "158000\ncost :  0.14173011\nAccuracy:  0.94065934\nAccuracy:  0.95614034\n"
     ]
    },
    {
     "name": "stdout",
     "output_type": "stream",
     "text": [
      "159000\ncost :  0.1449199\nAccuracy:  0.94065934\nAccuracy:  0.9298246\n"
     ]
    },
    {
     "name": "stdout",
     "output_type": "stream",
     "text": [
      "160000\ncost :  0.14098549\nAccuracy:  0.94285715\nAccuracy:  0.9385965\n"
     ]
    },
    {
     "name": "stdout",
     "output_type": "stream",
     "text": [
      "161000\ncost :  0.14327915\nAccuracy:  0.94725275\nAccuracy:  0.9385965\n"
     ]
    },
    {
     "name": "stdout",
     "output_type": "stream",
     "text": [
      "162000\ncost :  0.14100745\nAccuracy:  0.94505495\nAccuracy:  0.9385965\n"
     ]
    },
    {
     "name": "stdout",
     "output_type": "stream",
     "text": [
      "163000\ncost :  0.14111651\nAccuracy:  0.94505495\nAccuracy:  0.9385965\n"
     ]
    },
    {
     "name": "stdout",
     "output_type": "stream",
     "text": [
      "164000\ncost :  0.14098549\nAccuracy:  0.94285715\nAccuracy:  0.9385965\n"
     ]
    },
    {
     "name": "stdout",
     "output_type": "stream",
     "text": [
      "165000\ncost :  0.14098547\nAccuracy:  0.94285715\nAccuracy:  0.9385965\n"
     ]
    },
    {
     "name": "stdout",
     "output_type": "stream",
     "text": [
      "166000\ncost :  0.14098555\nAccuracy:  0.94285715\nAccuracy:  0.9385965\n"
     ]
    },
    {
     "name": "stdout",
     "output_type": "stream",
     "text": [
      "167000\ncost :  0.14098556\nAccuracy:  0.94285715\nAccuracy:  0.9385965\n"
     ]
    },
    {
     "name": "stdout",
     "output_type": "stream",
     "text": [
      "168000\ncost :  0.14133777\nAccuracy:  0.94505495\nAccuracy:  0.9385965\n"
     ]
    },
    {
     "name": "stdout",
     "output_type": "stream",
     "text": [
      "169000\ncost :  0.14153089\nAccuracy:  0.94505495\nAccuracy:  0.95614034\n"
     ]
    },
    {
     "name": "stdout",
     "output_type": "stream",
     "text": [
      "170000\ncost :  0.14098549\nAccuracy:  0.94285715\nAccuracy:  0.9385965\n"
     ]
    },
    {
     "name": "stdout",
     "output_type": "stream",
     "text": [
      "171000\ncost :  0.14098547\nAccuracy:  0.94285715\nAccuracy:  0.9385965\n"
     ]
    },
    {
     "name": "stdout",
     "output_type": "stream",
     "text": [
      "172000\ncost :  0.14098558\nAccuracy:  0.94285715\nAccuracy:  0.9385965\n"
     ]
    },
    {
     "name": "stdout",
     "output_type": "stream",
     "text": [
      "173000\ncost :  0.1409855\nAccuracy:  0.94285715\nAccuracy:  0.9385965\n"
     ]
    },
    {
     "name": "stdout",
     "output_type": "stream",
     "text": [
      "174000\ncost :  0.14100805\nAccuracy:  0.94065934\nAccuracy:  0.94736844\n"
     ]
    },
    {
     "name": "stdout",
     "output_type": "stream",
     "text": [
      "175000\ncost :  0.14104946\nAccuracy:  0.94065934\nAccuracy:  0.94736844\n"
     ]
    },
    {
     "name": "stdout",
     "output_type": "stream",
     "text": [
      "176000\ncost :  0.14114852\nAccuracy:  0.94065934\nAccuracy:  0.94736844\n"
     ]
    },
    {
     "name": "stdout",
     "output_type": "stream",
     "text": [
      "177000\ncost :  0.14098553\nAccuracy:  0.94285715\nAccuracy:  0.9385965\n"
     ]
    },
    {
     "name": "stdout",
     "output_type": "stream",
     "text": [
      "178000\ncost :  0.14098577\nAccuracy:  0.94285715\nAccuracy:  0.9385965\n"
     ]
    },
    {
     "name": "stdout",
     "output_type": "stream",
     "text": [
      "179000\ncost :  0.14098556\nAccuracy:  0.94065934\nAccuracy:  0.9385965\n"
     ]
    },
    {
     "name": "stdout",
     "output_type": "stream",
     "text": [
      "180000\ncost :  0.14098562\nAccuracy:  0.94285715\nAccuracy:  0.9385965\n"
     ]
    },
    {
     "name": "stdout",
     "output_type": "stream",
     "text": [
      "181000\ncost :  0.14102045\nAccuracy:  0.94065934\nAccuracy:  0.94736844\n"
     ]
    },
    {
     "name": "stdout",
     "output_type": "stream",
     "text": [
      "182000\ncost :  0.14098692\nAccuracy:  0.94285715\nAccuracy:  0.9385965\n"
     ]
    },
    {
     "name": "stdout",
     "output_type": "stream",
     "text": [
      "183000\ncost :  0.140986\nAccuracy:  0.94285715\nAccuracy:  0.9385965\n"
     ]
    },
    {
     "name": "stdout",
     "output_type": "stream",
     "text": [
      "184000\ncost :  0.14113781\nAccuracy:  0.94505495\nAccuracy:  0.9385965\n"
     ]
    },
    {
     "name": "stdout",
     "output_type": "stream",
     "text": [
      "185000\ncost :  0.14143421\nAccuracy:  0.94505495\nAccuracy:  0.95614034\n"
     ]
    },
    {
     "name": "stdout",
     "output_type": "stream",
     "text": [
      "186000\ncost :  0.14152564\nAccuracy:  0.94725275\nAccuracy:  0.9385965\n"
     ]
    },
    {
     "name": "stdout",
     "output_type": "stream",
     "text": [
      "187000\ncost :  0.14098553\nAccuracy:  0.94285715\nAccuracy:  0.9385965\n"
     ]
    },
    {
     "name": "stdout",
     "output_type": "stream",
     "text": [
      "188000\ncost :  0.14098546\nAccuracy:  0.94285715\nAccuracy:  0.9385965\n"
     ]
    },
    {
     "name": "stdout",
     "output_type": "stream",
     "text": [
      "189000\ncost :  0.14098586\nAccuracy:  0.94065934\nAccuracy:  0.9385965\n"
     ]
    },
    {
     "name": "stdout",
     "output_type": "stream",
     "text": [
      "190000\ncost :  0.14098571\nAccuracy:  0.94285715\nAccuracy:  0.9385965\n"
     ]
    },
    {
     "name": "stdout",
     "output_type": "stream",
     "text": [
      "191000\ncost :  0.1409855\nAccuracy:  0.94065934\nAccuracy:  0.9385965\n"
     ]
    },
    {
     "name": "stdout",
     "output_type": "stream",
     "text": [
      "192000\ncost :  0.14098549\nAccuracy:  0.94285715\nAccuracy:  0.9385965\n"
     ]
    },
    {
     "name": "stdout",
     "output_type": "stream",
     "text": [
      "193000\ncost :  0.14098567\nAccuracy:  0.94285715\nAccuracy:  0.9385965\n"
     ]
    },
    {
     "name": "stdout",
     "output_type": "stream",
     "text": [
      "194000\ncost :  0.1409856\nAccuracy:  0.94285715\nAccuracy:  0.9385965\n"
     ]
    },
    {
     "name": "stdout",
     "output_type": "stream",
     "text": [
      "195000\ncost :  0.14098957\nAccuracy:  0.94285715\nAccuracy:  0.9385965\n"
     ]
    },
    {
     "name": "stdout",
     "output_type": "stream",
     "text": [
      "196000\ncost :  0.14147356\nAccuracy:  0.94505495\nAccuracy:  0.9385965\n"
     ]
    },
    {
     "name": "stdout",
     "output_type": "stream",
     "text": [
      "197000\ncost :  0.14098701\nAccuracy:  0.94065934\nAccuracy:  0.9385965\n"
     ]
    },
    {
     "name": "stdout",
     "output_type": "stream",
     "text": [
      "198000\ncost :  0.14098613\nAccuracy:  0.94285715\nAccuracy:  0.9385965\n"
     ]
    },
    {
     "name": "stdout",
     "output_type": "stream",
     "text": [
      "199000\ncost :  0.14105576\nAccuracy:  0.94065934\nAccuracy:  0.95614034\n"
     ]
    }
   ],
   "source": [
    "with tf.Session() as sess:\n",
    "    sess.run(tf.global_variables_initializer())\n",
    "    #print(sess.run([Y, hypothesis], feed_dict={X: x_data, Y: y_data}))\n",
    "    \n",
    "    for step in range(200000):\n",
    "        w, b_val, cost_val, _ = sess.run([W, b, loss, train], feed_dict={X: train_x, Y: train_y})\n",
    "        if step % 1000 == 0:\n",
    "            print(step)\n",
    "            print(\"cost : \", cost_val)\n",
    "            #print(sess.run([Y, predict], feed_dict={X: x_data, Y:y_data}))\n",
    "            print(\"Accuracy: \", accuracy.eval(session=sess, feed_dict={X: train_x, Y: train_y}))\n",
    "            print(\"Accuracy: \", accuracy.eval(session=sess, feed_dict={X: test_x, Y: test_y}))\n",
    "     "
   ]
  },
  {
   "cell_type": "code",
   "execution_count": null,
   "metadata": {},
   "outputs": [],
   "source": []
  }
 ],
 "metadata": {
  "kernelspec": {
   "display_name": "Python 3",
   "language": "python",
   "name": "python3"
  },
  "language_info": {
   "codemirror_mode": {
    "name": "ipython",
    "version": 3
   },
   "file_extension": ".py",
   "mimetype": "text/x-python",
   "name": "python",
   "nbconvert_exporter": "python",
   "pygments_lexer": "ipython3",
   "version": "3.6.5"
  }
 },
 "nbformat": 4,
 "nbformat_minor": 1
}
