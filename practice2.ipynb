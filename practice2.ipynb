{
 "cells": [
  {
   "cell_type": "code",
   "execution_count": 13,
   "metadata": {
    "collapsed": true
   },
   "outputs": [],
   "source": [
    "import tensorflow as tf\n",
    "import pandas as pd\n",
    "import matplotlib.pyplot as plt\n",
    "import numpy as np\n",
    "from mpl_toolkits import mplot3d # for 3d plot"
   ]
  },
  {
   "cell_type": "code",
   "execution_count": 14,
   "metadata": {},
   "outputs": [],
   "source": [
    "df = pd.read_csv('data2d/data.csv')\n",
    "df = df.values"
   ]
  },
  {
   "cell_type": "code",
   "execution_count": 15,
   "metadata": {},
   "outputs": [],
   "source": [
    "x_data = df[0:, 1:3]\n",
    "y_data = df[0:, 3:4]\n",
    "fig = plt.figure()\n",
    "ax = plt.axes(projection='3d')\n",
    "ax.scatter(x_data[:, 0].flatten(), x_data[:, 1].flatten(), y_data.flatten())\n",
    "ax.set_xlabel('X0')\n",
    "ax.set_ylabel('X1')\n",
    "ax.set_zlabel('Y')\n",
    "plt.show()"
   ]
  },
  {
   "cell_type": "code",
   "execution_count": 17,
   "metadata": {},
   "outputs": [],
   "source": [
    "df = pd.read_csv('data2d/test.csv')\n",
    "df = df.values\n",
    "x_test = df[0:, 1:3]\n",
    "y_test = df[0:, 3:4]\n",
    "fig = plt.figure()\n",
    "ax = plt.axes(projection='3d')\n",
    "ax.scatter(x_test[:, 0].flatten(), x_test[:, 1].flatten(), y_test.flatten())\n",
    "ax.set_xlabel('X0')\n",
    "ax.set_ylabel('X1')\n",
    "ax.set_zlabel('Y')\n",
    "plt.show()"
   ]
  },
  {
   "cell_type": "code",
   "execution_count": 21,
   "metadata": {},
   "outputs": [],
   "source": [
    "X = tf.placeholder(tf.float32, [None,2],name='x')\n",
    "Y = tf.placeholder(tf.float32, [None,1],name='y')\n",
    "\n",
    "W = tf.Variable(tf.random_normal([2,1]),name='w')\n",
    "b = tf.Variable(tf.random_normal([1]),name='b')"
   ]
  },
  {
   "cell_type": "code",
   "execution_count": 27,
   "metadata": {},
   "outputs": [],
   "source": [
    "hypothesis = tf.matmul(X, W) + b\n",
    "cost = tf.reduce_mean(tf.square(hypothesis - Y))\n",
    "optimizer = tf.train.GradientDescentOptimizer(learning_rate=0.1)\n",
    "train_op = optimizer.minimize(cost)"
   ]
  },
  {
   "cell_type": "code",
   "execution_count": 28,
   "metadata": {},
   "outputs": [
    {
     "name": "stdout",
     "output_type": "stream",
     "text": [
      "0 0.442524 [[-0.9679012]\n [-0.5695199]] [1.0238558]\n100 0.021002997 [[-0.17325869]\n [ 0.15285748]] [0.5846315]\n200 0.0027927756 [[0.06550968]\n [0.37273112]] [0.3395868]\n300 0.0003985938 [[0.15148707]\n [0.4530896 ]] [0.25072244]\n400 8.379136e-05 [[0.1825487]\n [0.4823488]] [0.21849743]\n"
     ]
    },
    {
     "name": "stdout",
     "output_type": "stream",
     "text": [
      "500 4.2397995e-05 [[0.19379018]\n [0.49298158]] [0.20681182]\n600 3.6955225e-05 [[0.19786231]\n [0.49684152]] [0.20257443]\n700 3.6239508e-05 [[0.19933815]\n [0.49824208]] [0.20103782]\n800 3.6145408e-05 [[0.19987316]\n [0.49875   ]] [0.20048067]\n"
     ]
    },
    {
     "name": "stdout",
     "output_type": "stream",
     "text": [
      "900 3.6133035e-05 [[0.2000671 ]\n [0.49893433]] [0.2002786]\n1000 3.61314e-05 [[0.20013744]\n [0.49900115]] [0.20020533]\n"
     ]
    }
   ],
   "source": [
    "with tf.Session() as sess:\n",
    "    sess.run(tf.global_variables_initializer())\n",
    "    \n",
    "    for step in range(1001):\n",
    "        _, cost_val = sess.run([train_op,cost],feed_dict={X:x_data, Y:y_data})\n",
    "        if step%100 == 0:\n",
    "            print(step, cost_val, sess.run(W),sess.run(b))\n",
    "            \n",
    "            \n",
    "            \n",
    "    test_cost =  sess.run([cost],feed_dict={X:x_test,Y:y_test})\n",
    "    rangeX0 = np.arange(0, 1, 0.01)\n",
    "    rangeX1 = np.arange(0, 1, 0.01)\n",
    "    rangeX0, rangeX1 = np.meshgrid(rangeX0, rangeX1)\n",
    "    rangeY = sess.run(W)[0] * rangeX0 + sess.run(W)[1]*rangeX1 + sess.run(b)\n",
    "    fig = plt.figure()\n",
    "    ax = fig.add_subplot(1,1,1,projection='3d')\n",
    "    ax.plot_surface(rangeX0, rangeX1, rangeY, rstride=1, cstride=1, linewidth=0, antialiased=False)\n",
    "    ax.scatter(x_test[:, 0].flatten(), x_test[:, 1].flatten(), y_test.flatten())\n",
    "    ax.set_xlabel('X0')\n",
    "    ax.set_ylabel('X1')\n",
    "    ax.set_zlabel('Y')\n",
    "    plt.show()\n"
   ]
  },
  {
   "cell_type": "code",
   "execution_count": null,
   "metadata": {},
   "outputs": [],
   "source": []
  }
 ],
 "metadata": {
  "kernelspec": {
   "display_name": "Python 2",
   "language": "python",
   "name": "python2"
  },
  "language_info": {
   "codemirror_mode": {
    "name": "ipython",
    "version": 2
   },
   "file_extension": ".py",
   "mimetype": "text/x-python",
   "name": "python",
   "nbconvert_exporter": "python",
   "pygments_lexer": "ipython2",
   "version": "2.7.6"
  }
 },
 "nbformat": 4,
 "nbformat_minor": 0
}
