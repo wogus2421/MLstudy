{
 "cells": [
  {
   "cell_type": "markdown",
   "metadata": {
    "collapsed": true
   },
   "source": [
    "# 1주차 Linear Regression\n",
    "\n",
    "##기본 라이브러리 import"
   ]
  },
  {
   "cell_type": "code",
   "execution_count": 2,
   "metadata": {},
   "outputs": [],
   "source": [
    "import tensorflow as tf\n",
    "import pandas as pd\n",
    "import numpy as np\n",
    "import matplotlib.pyplot as plot\n",
    "from mpl_toolkits import mplot3d # for 3d plot"
   ]
  },
  {
   "cell_type": "markdown",
   "metadata": {},
   "source": [
    "## 학습 데이터 로드 후 시각화(data_num x 1 Matrix)"
   ]
  },
  {
   "cell_type": "code",
   "execution_count": 4,
   "metadata": {
    "collapsed": false
   },
   "outputs": [],
   "source": [
    "df = pd.read_csv('data2d/data.csv')\n",
    "df = df.values  # remove columns' name\n",
    "\n",
    "x_data = df[0:, 1:3]  # x_data : 800x1\n",
    "y_data = df[0:, 3:4]  # y_data : 800x1\n",
    "\n",
    "fig = plot.figure()\n",
    "ax = plot.axes(projection='3d')\n",
    "ax.scatter(x_data[:, 0].flatten(), x_data[:, 1].flatten(), y_data.flatten())\n",
    "ax.set_xlabel('X0')\n",
    "ax.set_ylabel('X1')\n",
    "ax.set_zlabel('Y')\n",
    "plot.show()"
   ]
  },
  {
   "cell_type": "markdown",
   "metadata": {},
   "source": [
    " * flatten 함수는 Matrix를 Vector로 바꾸어준다. (n-d array to 1d array)\n",
    " * plot 함수는 기본적으로 2차원을 그리는 함수이며, 1차원 array 를 입력받는다\n",
    " * 따라서 matrix를 1차원으로 바꿔줘야 할 필요성이 있다.\n",
    " * 여기서는 굳이 matrix의 형태로 learning 시켜야할 필요성은 없지만, 2차원... n차원에 대해서 일반적으로 learning 하기 위해서 이렇게 기재하였다"
   ]
  },
  {
   "cell_type": "code",
   "execution_count": 5,
   "metadata": {},
   "outputs": [],
   "source": [
    "X = tf.placeholder(tf.float32, [None, 2], name='x')\n",
    "Y = tf.placeholder(tf.float32, [None, 1], name='y')\n",
    "\n",
    "W = tf.Variable(tf.random_normal([2, 1]), name='w')\n",
    "b = tf.Variable(tf.random_normal([1]), name='b')\n",
    "\n",
    "hypothesis = tf.matmul(X, W) + b\n",
    "\n",
    "cost = tf.reduce_mean(tf.square(hypothesis - Y))\n",
    "\n",
    "optimizer = tf.train.GradientDescentOptimizer(learning_rate=1e-1)\n",
    "\n",
    "train_op = optimizer.minimize(cost)\n"
   ]
  },
  {
   "cell_type": "code",
   "execution_count": 6,
   "metadata": {},
   "outputs": [
    {
     "name": "stdout",
     "output_type": "stream",
     "text": [
      "0 4.1483016 [[0.48072374]\n [1.0687577 ]] [1.1685524]\n"
     ]
    },
    {
     "name": "stdout",
     "output_type": "stream",
     "text": [
      "100 0.0002499098 [[0.14989923]\n [0.50617176]] [0.22349097]\n"
     ]
    },
    {
     "name": "stdout",
     "output_type": "stream",
     "text": [
      "200 5.144597e-05 [[0.18668652]\n [0.49669492]] [0.20867606]\n"
     ]
    },
    {
     "name": "stdout",
     "output_type": "stream",
     "text": [
      "300 3.767923e-05 [[0.19618982]\n [0.49724853]] [0.20326059]\n"
     ]
    },
    {
     "name": "stdout",
     "output_type": "stream",
     "text": [
      "400 3.6317768e-05 [[0.19890402]\n [0.4982104 ]] [0.20128858]\n"
     ]
    },
    {
     "name": "stdout",
     "output_type": "stream",
     "text": [
      "500 3.6155074e-05 [[0.1997486]\n [0.4987044]] [0.20057192]\n"
     ]
    },
    {
     "name": "stdout",
     "output_type": "stream",
     "text": [
      "600 3.613428e-05 [[0.20002823]\n [0.49891123]] [0.20031178]\n"
     ]
    },
    {
     "name": "stdout",
     "output_type": "stream",
     "text": [
      "700 3.6131554e-05 [[0.20012458]\n [0.4989915 ]] [0.20021737]\n"
     ]
    },
    {
     "name": "stdout",
     "output_type": "stream",
     "text": [
      "800 3.6131223e-05 [[0.20015848]\n [0.4990216 ]] [0.20018318]\n"
     ]
    },
    {
     "name": "stdout",
     "output_type": "stream",
     "text": [
      "900 3.6131176e-05 [[0.20017059]\n [0.49903262]] [0.20017079]\n"
     ]
    },
    {
     "name": "stdout",
     "output_type": "stream",
     "text": [
      "1000 3.6131147e-05 [[0.2001749]\n [0.4990367]] [0.20016636]\n"
     ]
    }
   ],
   "source": [
    "with tf.Session() as sess:\n",
    "    sess.run(tf.global_variables_initializer())\n",
    "\n",
    "    for step in range(1001):\n",
    "        _, cost_val = sess.run([train_op, cost], feed_dict={X: x_data, Y: y_data})\n",
    "        \n",
    "        if step % 100 == 0:\n",
    "            rangeX0 = np.arange(0, 1, 0.01)\n",
    "            rangeX1 = np.arange(0, 1, 0.01)\n",
    "            rangeX0, rangeX1 = np.meshgrid(rangeX0, rangeX1)\n",
    "            rangeY = sess.run(W)[0] * rangeX0 + sess.run(W)[1]*rangeX1 + sess.run(b)\n",
    "            fig = plot.figure()\n",
    "            ax = fig.add_subplot(1,1,1,projection='3d')\n",
    "            ax.plot_surface(rangeX0, rangeX1, rangeY, rstride=1, cstride=1, \n",
    "                            linewidth=0, antialiased=False)\n",
    "            ax.scatter(x_data[:, 0].flatten(), x_data[:, 1].flatten(), y_data.flatten())\n",
    "            ax.set_xlabel('X0')\n",
    "            ax.set_ylabel('X1')\n",
    "            ax.set_zlabel('Y')\n",
    "            plot.show()\n",
    "            print(step, cost_val, sess.run(W), sess.run(b))\n"
   ]
  },
  {
   "cell_type": "code",
   "execution_count": 10,
   "metadata": {},
   "outputs": [
    {
     "data": {
      "text/plain": [
       "(800, 1)"
      ]
     },
     "execution_count": 10,
     "metadata": {},
     "output_type": "execute_result"
    }
   ],
   "source": [
    "x_data[1, :].shape"
   ]
  },
  {
   "cell_type": "code",
   "execution_count": 30,
   "metadata": {},
   "outputs": [
    {
     "data": {
      "text/plain": [
       "array([[0.2001504 , 0.2021523 , 0.2041542 , ..., 0.39433488, 0.39633678,\n        0.39833869],\n       [0.20514091, 0.20714281, 0.20914472, ..., 0.39932539, 0.4013273 ,\n        0.4033292 ],\n       [0.21013143, 0.21213333, 0.21413523, ..., 0.40431591, 0.40631781,\n        0.40831971],\n       ...,\n       [0.68423011, 0.68623201, 0.68823391, ..., 0.87841459, 0.88041649,\n        0.88241839],\n       [0.68922062, 0.69122252, 0.69322442, ..., 0.8834051 , 0.885407  ,\n        0.8874089 ],\n       [0.69421113, 0.69621303, 0.69821493, ..., 0.88839561, 0.89039751,\n        0.89239942]])"
      ]
     },
     "execution_count": 30,
     "metadata": {},
     "output_type": "execute_result"
    }
   ],
   "source": [
    "rangeY"
   ]
  },
  {
   "cell_type": "code",
   "execution_count": null,
   "metadata": {},
   "outputs": [],
   "source": []
  }
 ],
 "metadata": {
  "kernelspec": {
   "display_name": "Python 2",
   "language": "python",
   "name": "python2"
  },
  "language_info": {
   "codemirror_mode": {
    "name": "ipython",
    "version": 2
   },
   "file_extension": ".py",
   "mimetype": "text/x-python",
   "name": "python",
   "nbconvert_exporter": "python",
   "pygments_lexer": "ipython2",
   "version": "2.7.6"
  }
 },
 "nbformat": 4,
 "nbformat_minor": 0
}
