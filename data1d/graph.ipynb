{
 "cells": [
  {
   "cell_type": "markdown",
   "metadata": {
    "collapsed": true
   },
   "source": [
    "# 1주차 Linear Regression\n",
    "\n",
    "##기본 라이브러리 import"
   ]
  },
  {
   "cell_type": "code",
   "execution_count": 2,
   "metadata": {},
   "outputs": [],
   "source": [
    "import tensorflow as tf\n",
    "import pandas as pd\n",
    "import numpy as np\n",
    "import matplotlib.pyplot as plot"
   ]
  },
  {
   "cell_type": "markdown",
   "metadata": {},
   "source": [
    "## 학습 데이터 로드 후 시각화(data_num x 1 Matrix)"
   ]
  },
  {
   "cell_type": "code",
   "execution_count": 15,
   "metadata": {
    "collapsed": false
   },
   "outputs": [],
   "source": [
    "df = pd.read_csv('1/data1d/data.csv')\n",
    "df = df.values  # remove columns' name\n",
    "\n",
    "x_data = df[0:, 1:2]  # x_data : 800x1 \n",
    "y_data = df[0:, 2:3]  # y_data : 800x1\n",
    "plot.plot(x_data.flatten(), y_data.flatten(), 'b+', label='2D')\n",
    "plot.legend()\n",
    "plot.show()"
   ]
  },
  {
   "cell_type": "markdown",
   "metadata": {},
   "source": [
    " * flatten 함수는 Matrix를 Vector로 바꾸어준다. (n-d array to 1d array)\n",
    " * plot 함수는 기본적으로 2차원을 그리는 함수이며, 1차원 array 를 입력받는다\n",
    " * 따라서 matrix를 1차원으로 바꿔줘야 할 필요성이 있다.\n",
    " * 여기서는 굳이 matrix의 형태로 learning 시켜야할 필요성은 없지만, 2차원... n차원에 대해서 일반적으로 learning 하기 위해서 이렇게 기재하였다"
   ]
  },
  {
   "cell_type": "code",
   "execution_count": 16,
   "metadata": {},
   "outputs": [],
   "source": [
    "X = tf.placeholder(tf.float32, [None, 1], name='x')\n",
    "Y = tf.placeholder(tf.float32, [None, 1], name='y')\n",
    "\n",
    "W = tf.Variable(tf.random_normal([1, 1]), name='w')\n",
    "b = tf.Variable(tf.random_normal([1]), name='b')\n",
    "\n",
    "hypothesis = tf.matmul(X, W) + b\n",
    "\n",
    "cost = tf.reduce_mean(tf.square(hypothesis - Y))\n",
    "\n",
    "optimizer = tf.train.GradientDescentOptimizer(learning_rate=1e-1)\n",
    "# 여기서 learning_rate의 값을 조정하면서 얼마나 빨리 learning 되는지 직접 관찰하는 것도 좋\n",
    "train_op = optimizer.minimize(cost)\n"
   ]
  },
  {
   "cell_type": "code",
   "execution_count": 17,
   "metadata": {},
   "outputs": [
    {
     "name": "stdout",
     "output_type": "stream",
     "text": [
      "0 0.13562723 [[-0.7233743]] [0.70668566]\n"
     ]
    },
    {
     "name": "stdout",
     "output_type": "stream",
     "text": [
      "100 0.0010809238 [[-0.31087974]] [0.75733477]\n"
     ]
    },
    {
     "name": "stdout",
     "output_type": "stream",
     "text": [
      "200 0.00010814943 [[-0.22961287]] [0.7155608]\n"
     ]
    },
    {
     "name": "stdout",
     "output_type": "stream",
     "text": [
      "300 3.93978e-05 [[-0.20800813]] [0.70445526]\n"
     ]
    },
    {
     "name": "stdout",
     "output_type": "stream",
     "text": [
      "400 3.4538712e-05 [[-0.2022645]] [0.70150286]\n"
     ]
    },
    {
     "name": "stdout",
     "output_type": "stream",
     "text": [
      "500 3.419531e-05 [[-0.20073758]] [0.7007179]\n"
     ]
    },
    {
     "name": "stdout",
     "output_type": "stream",
     "text": [
      "600 3.417104e-05 [[-0.20033167]] [0.7005093]\n"
     ]
    },
    {
     "name": "stdout",
     "output_type": "stream",
     "text": [
      "700 3.4169316e-05 [[-0.20022386]] [0.7004539]\n"
     ]
    },
    {
     "name": "stdout",
     "output_type": "stream",
     "text": [
      "800 3.41692e-05 [[-0.20019528]] [0.7004393]\n"
     ]
    },
    {
     "name": "stdout",
     "output_type": "stream",
     "text": [
      "900 3.4169192e-05 [[-0.20018755]] [0.7004353]\n"
     ]
    },
    {
     "name": "stdout",
     "output_type": "stream",
     "text": [
      "1000 3.416918e-05 [[-0.20018597]] [0.7004345]\n"
     ]
    }
   ],
   "source": [
    "with tf.Session() as sess:\n",
    "    sess.run(tf.global_variables_initializer())\n",
    "\n",
    "    for step in range(1001):\n",
    "        _, cost_val = sess.run([train_op, cost], feed_dict={X: x_data, Y: y_data})\n",
    "        \n",
    "        if step % 100 == 0:\n",
    "            range_data = np.arange(0, 1, 0.01)\n",
    "            plot.plot(x_data.flatten(), y_data.flatten(), 'b+')\n",
    "            plot.plot(range_data, (sess.run(W) * range_data + sess.run(b)).flatten(), 'r')\n",
    "            plot.show()\n",
    "            print(step, cost_val, sess.run(W), sess.run(b))\n"
   ]
  },
  {
   "cell_type": "code",
   "execution_count": 14,
   "metadata": {},
   "outputs": [
    {
     "data": {
      "text/plain": [
       "(800, 1)"
      ]
     },
     "execution_count": 14,
     "metadata": {},
     "output_type": "execute_result"
    }
   ],
   "source": [
    "x_data.shape"
   ]
  },
  {
   "cell_type": "code",
   "execution_count": null,
   "metadata": {},
   "outputs": [],
   "source": []
  }
 ],
 "metadata": {
  "kernelspec": {
   "display_name": "Python 2",
   "language": "python",
   "name": "python2"
  },
  "language_info": {
   "codemirror_mode": {
    "name": "ipython",
    "version": 2
   },
   "file_extension": ".py",
   "mimetype": "text/x-python",
   "name": "python",
   "nbconvert_exporter": "python",
   "pygments_lexer": "ipython2",
   "version": "2.7.6"
  }
 },
 "nbformat": 4,
 "nbformat_minor": 0
}
