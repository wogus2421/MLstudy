{
 "cells": [
  {
   "cell_type": "code",
   "execution_count": 4,
   "metadata": {
    "collapsed": true
   },
   "outputs": [],
   "source": [
    "import pandas as pd\n",
    "import tensorflow as tf\n",
    "import numpy as np"
   ]
  },
  {
   "cell_type": "code",
   "execution_count": 5,
   "metadata": {},
   "outputs": [],
   "source": [
    "dataframe = pd.read_csv('2/data/Tumor.csv')\n"
   ]
  },
  {
   "cell_type": "code",
   "execution_count": 12,
   "metadata": {},
   "outputs": [
    {
     "name": "stdout",
     "output_type": "stream",
     "text": [
      "(569, 30) (569, 1) (69, 30) (500, 30) (69, 1) (500, 1)\n"
     ]
    }
   ],
   "source": [
    "X_data = dataframe.values[:, 2:-1]\n",
    "Y_data = np.array([dataframe['diagnosis'].map({'M': 1, 'B': 0}).values]).transpose()\n",
    "x_train = X_data[:500, :]\n",
    "x_test = X_data[500:, :]\n",
    "y_train = Y_data[:500, :]\n",
    "y_test = Y_data[500:, :]\n",
    "\n",
    "print(X_data.shape , Y_data.shape , x_test.shape, x_train.shape, y_test.shape, y_train.shape)"
   ]
  },
  {
   "cell_type": "code",
   "execution_count": 13,
   "metadata": {},
   "outputs": [],
   "source": [
    "X = tf.placeholder(tf.float32,shape=[None, X_data.shape[1]], name='x')\n",
    "Y = tf.placeholder(tf.float32, shape=[None, Y_data.shape[1]], name='y')\n",
    "\n",
    "W = tf.Variable(tf.random_normal([X_data.shape[1],1]),name='w')\n",
    "b = tf.Variable(tf.random_normal([Y_data.shape[1]]),name='b')"
   ]
  },
  {
   "cell_type": "code",
   "execution_count": 23,
   "metadata": {},
   "outputs": [],
   "source": [
    "mod = tf.matmul(X,W)+b\n",
    "hypothesis = tf.sigmoid(mod)\n",
    "cost = tf.reduce_mean(tf.nn.sigmoid_cross_entropy_with_logits(logits=mod,labels=Y))\n",
    "optimizer = tf.train.AdamOptimizer(learning_rate=0.04)\n",
    "train_op = optimizer.minimize(cost)\n",
    "\n",
    "accuacy = tf.reduce_mean(tf.cast( tf.equal(tf.round(hypothesis),Y) ,tf.float32))"
   ]
  },
  {
   "cell_type": "code",
   "execution_count": 25,
   "metadata": {},
   "outputs": [
    {
     "name": "stdout",
     "output_type": "stream",
     "text": [
      "0\ntrain cost, acc:  501.78473 0.39\ntest cost, acc :  539.5093 0.24637681\n100\ntrain cost, acc:  6.226443 0.778\ntest cost, acc :  4.3840785 0.8405797\n"
     ]
    },
    {
     "name": "stdout",
     "output_type": "stream",
     "text": [
      "200\ntrain cost, acc:  2.7442875 0.85\ntest cost, acc :  2.0083687 0.8695652\n300\ntrain cost, acc:  0.9127086 0.908\ntest cost, acc :  0.36130872 0.9130435\n"
     ]
    },
    {
     "name": "stdout",
     "output_type": "stream",
     "text": [
      "400\ntrain cost, acc:  0.37199163 0.938\ntest cost, acc :  0.0884577 0.95652175\n500\ntrain cost, acc:  0.23166007 0.946\ntest cost, acc :  0.07912774 0.9710145\n"
     ]
    },
    {
     "name": "stdout",
     "output_type": "stream",
     "text": [
      "600\ntrain cost, acc:  0.1841414 0.952\ntest cost, acc :  0.062318582 0.95652175\n700\ntrain cost, acc:  0.15887779 0.95\ntest cost, acc :  0.056919318 0.9710145\n"
     ]
    },
    {
     "name": "stdout",
     "output_type": "stream",
     "text": [
      "800\ntrain cost, acc:  0.14150593 0.954\ntest cost, acc :  0.056373175 0.9710145\n900\ntrain cost, acc:  0.12784567 0.956\ntest cost, acc :  0.05736628 0.9710145\n"
     ]
    },
    {
     "name": "stdout",
     "output_type": "stream",
     "text": [
      "1000\ntrain cost, acc:  0.11695342 0.962\ntest cost, acc :  0.059030954 0.9710145\n"
     ]
    }
   ],
   "source": [
    "with tf.Session() as sess:\n",
    "    sess.run(tf.global_variables_initializer())\n",
    "    \n",
    "    for step in range(1001):\n",
    "        _, costval,accuacy_val = sess.run([train_op, cost,accuacy], feed_dict={X :x_train, Y:y_train})\n",
    "        \n",
    "        if step % 100 == 0:\n",
    "            print(step)\n",
    "            print(\"train cost, acc: \",costval , accuacy_val)\n",
    "            test_cost, test_acc = sess.run([cost,accuacy],feed_dict={X:x_test, Y:y_test})\n",
    "            print(\"test cost, acc : \",test_cost, test_acc)"
   ]
  },
  {
   "cell_type": "code",
   "execution_count": null,
   "metadata": {},
   "outputs": [],
   "source": []
  }
 ],
 "metadata": {
  "kernelspec": {
   "display_name": "Python 2",
   "language": "python",
   "name": "python2"
  },
  "language_info": {
   "codemirror_mode": {
    "name": "ipython",
    "version": 2
   },
   "file_extension": ".py",
   "mimetype": "text/x-python",
   "name": "python",
   "nbconvert_exporter": "python",
   "pygments_lexer": "ipython2",
   "version": "2.7.6"
  }
 },
 "nbformat": 4,
 "nbformat_minor": 0
}
