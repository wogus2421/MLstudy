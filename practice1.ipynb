{
 "cells": [
  {
   "cell_type": "code",
   "execution_count": 1,
   "metadata": {
    "collapsed": true
   },
   "outputs": [],
   "source": [
    "import pandas as pd\n",
    "import tensorflow as tf\n",
    "import numpy as np\n",
    "import matplotlib.pyplot as plt\n"
   ]
  },
  {
   "cell_type": "code",
   "execution_count": 2,
   "metadata": {},
   "outputs": [
    {
     "data": {
      "text/plain": [
       "array([[0.00000000e+00, 1.90860585e-01, 6.68791707e-01],\n       [1.00000000e+00, 4.59140710e-01, 5.98786120e-01],\n       [2.00000000e+00, 9.47928951e-01, 5.17356155e-01],\n       ...,\n       [7.97000000e+02, 5.71087613e-01, 5.79998659e-01],\n       [7.98000000e+02, 1.13077648e-01, 6.80536615e-01],\n       [7.99000000e+02, 7.82426005e-02, 6.77367587e-01]])"
      ]
     },
     "execution_count": 2,
     "metadata": {},
     "output_type": "execute_result"
    }
   ],
   "source": [
    "df = pd.read_csv('data1d/data.csv')\n",
    "df = df.values\n",
    "df"
   ]
  },
  {
   "cell_type": "code",
   "execution_count": 3,
   "metadata": {},
   "outputs": [],
   "source": [
    "x_data = df[0:, 1:2]\n",
    "y_data = df[0:, 2:3]\n",
    "plt.plot(x_data.flatten(), y_data.flatten(), 'b+', label='2D')\n",
    "plt.legend()\n",
    "plt.show()"
   ]
  },
  {
   "cell_type": "code",
   "execution_count": 4,
   "metadata": {},
   "outputs": [],
   "source": [
    "df = pd.read_csv('data1d/test.csv')\n",
    "df = df.values"
   ]
  },
  {
   "cell_type": "code",
   "execution_count": 5,
   "metadata": {},
   "outputs": [],
   "source": [
    "x_test = df[0:, 1:2]\n",
    "y_test = df[0:, 2:3]\n",
    "plt.plot(x_test.flatten(), y_test.flatten(), 'b+', label='2D')\n",
    "plt.legend()\n",
    "plt.show()"
   ]
  },
  {
   "cell_type": "code",
   "execution_count": 7,
   "metadata": {},
   "outputs": [],
   "source": [
    "X = tf.placeholder(tf.float32,[None,1],name='x')\n",
    "Y = tf.placeholder(tf.float32,[None,1],name='y')"
   ]
  },
  {
   "cell_type": "code",
   "execution_count": 9,
   "metadata": {},
   "outputs": [],
   "source": [
    "W = tf.Variable(tf.random_normal([1,1]),name='w')\n",
    "b = tf.Variable(tf.random_normal([1]),name='b')\n"
   ]
  },
  {
   "cell_type": "code",
   "execution_count": 10,
   "metadata": {},
   "outputs": [],
   "source": [
    "hypothesis = tf.matmul(X,W) +b\n",
    "cost = tf.reduce_mean(tf.square(hypothesis-Y))\n",
    "optimizer = tf.train.GradientDescentOptimizer(learning_rate=0.1)\n",
    "train_op = optimizer.minimize(cost)"
   ]
  },
  {
   "cell_type": "code",
   "execution_count": 11,
   "metadata": {},
   "outputs": [
    {
     "name": "stdout",
     "output_type": "stream",
     "text": [
      "0 0.059350953 [[0.09832497]] [0.72414684]\n0 0.059350953 [[0.09832497]] [0.72414684]\n100 0.0003438484 [[-0.1399756]] [0.66948426]\n"
     ]
    },
    {
     "name": "stdout",
     "output_type": "stream",
     "text": [
      "100 0.0003438484 [[-0.1399756]] [0.66948426]\n200 5.605589e-05 [[-0.18417819]] [0.69220585]\n200"
     ]
    },
    {
     "name": "stdout",
     "output_type": "stream",
     "text": [
      " 5.605589e-05 [[-0.18417819]] [0.69220585]\n300 3.571605e-05 [[-0.19592938]] [0.69824636]\n300 3.571605e-05 [[-0.19592938]] [0.69824636]\n400"
     ]
    },
    {
     "name": "stdout",
     "output_type": "stream",
     "text": [
      " 3.4278488e-05 [[-0.19905348]] [0.6998523]\n400 3.4278488e-05 [[-0.19905348]] [0.6998523]\n500 3.4176926e-05 [[-0.19988395]] [0.7002792]\n"
     ]
    },
    {
     "name": "stdout",
     "output_type": "stream",
     "text": [
      "500 3.4176926e-05 [[-0.19988395]] [0.7002792]\n600 3.416973e-05 [[-0.2001047]] [0.7003926]\n600 3.416973e-05 [[-0.2001047]] [0.7003926]\n700"
     ]
    },
    {
     "name": "stdout",
     "output_type": "stream",
     "text": [
      " 3.416924e-05 [[-0.20016326]] [0.7004227]\n700 3.416924e-05 [[-0.20016326]] [0.7004227]\n800 3.4169192e-05 [[-0.20017886]] [0.7004308]\n"
     ]
    },
    {
     "name": "stdout",
     "output_type": "stream",
     "text": [
      "800 3.4169192e-05 [[-0.20017886]] [0.7004308]\n900 3.41692e-05 [[-0.20018287]] [0.7004327]\n900 3.41692e-05 [[-0.20018287]] [0.7004327]\n1000"
     ]
    },
    {
     "name": "stdout",
     "output_type": "stream",
     "text": [
      " 3.4169196e-05 [[-0.20018345]] [0.700433]\n1000 3.4169196e-05 [[-0.20018345]] [0.700433]\ntest cost :  [1.205611e-07]\n"
     ]
    }
   ],
   "source": [
    "with tf.Session() as sess:\n",
    "    sess.run(tf.global_variables_initializer())\n",
    "    \n",
    "    for step in range(1001):\n",
    "        \n",
    "        _, cost_val = sess.run([train_op,cost],feed_dict={X:x_data, Y:y_data})\n",
    "        if step%100 == 0:\n",
    "            print(step, cost_val, sess.run(W),sess.run(b))\n",
    "            range_data = np.arange(0, 1, 0.01)\n",
    "            plt.plot(x_data.flatten(), y_data.flatten(), 'b+')\n",
    "            plt.plot(range_data, (sess.run(W) * range_data + sess.run(b)).flatten(), 'r')\n",
    "            plt.show()\n",
    "            print(step, cost_val, sess.run(W), sess.run(b))\n",
    "        \n",
    "        \n",
    "    test_cost =  sess.run([cost],feed_dict={X:x_test,Y:y_test})\n",
    "    print(\"test cost : \", test_cost)\n",
    "    "
   ]
  },
  {
   "cell_type": "code",
   "execution_count": null,
   "metadata": {},
   "outputs": [],
   "source": []
  }
 ],
 "metadata": {
  "kernelspec": {
   "display_name": "Python 2",
   "language": "python",
   "name": "python2"
  },
  "language_info": {
   "codemirror_mode": {
    "name": "ipython",
    "version": 2
   },
   "file_extension": ".py",
   "mimetype": "text/x-python",
   "name": "python",
   "nbconvert_exporter": "python",
   "pygments_lexer": "ipython2",
   "version": "2.7.6"
  }
 },
 "nbformat": 4,
 "nbformat_minor": 0
}
