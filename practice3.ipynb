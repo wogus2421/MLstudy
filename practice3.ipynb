{
 "cells": [
  {
   "cell_type": "code",
   "execution_count": 1,
   "metadata": {
    "collapsed": true
   },
   "outputs": [],
   "source": [
    "import tensorflow as tf\n",
    "import pandas as pd\n",
    "import matplotlib.pyplot as plt\n",
    "import numpy as np"
   ]
  },
  {
   "cell_type": "code",
   "execution_count": 2,
   "metadata": {},
   "outputs": [],
   "source": [
    "df = pd.read_csv('data3d/data.csv')\n",
    "df = df.values"
   ]
  },
  {
   "cell_type": "code",
   "execution_count": 3,
   "metadata": {},
   "outputs": [],
   "source": [
    "x_data = df[0:, 1:4]\n",
    "y_data = df[0:, 4:5]"
   ]
  },
  {
   "cell_type": "code",
   "execution_count": 4,
   "metadata": {},
   "outputs": [],
   "source": [
    "df = pd.read_csv('data3d/test.csv')\n",
    "df = df.values\n",
    "\n",
    "x_test = df[0:, 1:4]\n",
    "y_test = df[0:, 4:5]"
   ]
  },
  {
   "cell_type": "code",
   "execution_count": 5,
   "metadata": {},
   "outputs": [],
   "source": [
    "X = tf.placeholder(tf.float32,[None,3],name='x')\n",
    "Y = tf.placeholder(tf.float32,[None,1],name='y')\n",
    "\n",
    "W = tf.Variable(tf.random_normal([3,1]),name='w')\n",
    "b = tf.Variable(tf.random_normal([1]),name='b')"
   ]
  },
  {
   "cell_type": "code",
   "execution_count": 6,
   "metadata": {},
   "outputs": [],
   "source": [
    "hypothesis = tf.matmul(X,W) + b\n",
    "cost = tf.reduce_mean(tf.square(hypothesis-Y))\n",
    "\n",
    "optimizer = tf.train.GradientDescentOptimizer(learning_rate=0.1)\n",
    "train_op = optimizer.minimize(cost)\n"
   ]
  },
  {
   "cell_type": "code",
   "execution_count": 7,
   "metadata": {},
   "outputs": [
    {
     "name": "stdout",
     "output_type": "stream",
     "text": [
      "0 2.7081182 [[0.78056353]\n [1.5364848 ]\n [0.4283042 ]] [0.900515]\n100 0.090449184 [[ 4.0782313 ]\n [ 1.6568835 ]\n [-0.09645033]] [0.0773051]\n200 0.01031879 [[ 4.7423472 ]\n [ 1.8285877 ]\n [-0.04478603]] [-0.3933293]\n300 0.0015376456 [[4.9153357 ]\n [1.9265237 ]\n [0.03175505]] [-0.5787176]\n400 0.00026561914 [[4.9694047 ]\n [1.9695624 ]\n [0.07130265]] [-0.65181744]\n500 7.0056056e-05 [[4.9884777 ]\n [1.9871631 ]\n [0.08847486]] [-0.680652]\n"
     ]
    },
    {
     "name": "stdout",
     "output_type": "stream",
     "text": [
      "600 3.9675666e-05 [[4.995642  ]\n [1.9941901 ]\n [0.09551568]] [-0.6920274]\n700 3.4947243e-05 [[4.998413 ]\n [1.9969726]\n [0.098339 ]] [-0.69651604]\n800 3.4211072e-05 [[4.9994965 ]\n [1.9980718 ]\n [0.09946084]] [-0.698287]\n900 3.4096534e-05 [[4.9999228 ]\n [1.998505  ]\n [0.09990478]] [-0.69898564]\n1000 3.4078777e-05 [[5.0000887]\n [1.998676 ]\n [0.1000803]] [-0.69926035]\ntest cost :  [1.662183e-07]\n"
     ]
    }
   ],
   "source": [
    "with tf.Session() as sess:\n",
    "    sess.run(tf.global_variables_initializer())\n",
    "    \n",
    "    for step in range(1001):\n",
    "        _,costval = sess.run([train_op,cost],feed_dict={X:x_data, Y:y_data})\n",
    "        \n",
    "        if step % 100 ==0:\n",
    "            print(step, costval, sess.run(W), sess.run(b))\n",
    "            \n",
    "            \n",
    "    test_cost = sess.run([cost],feed_dict={X:x_test, Y:y_test})\n",
    "    print(\"test cost : \", test_cost)"
   ]
  },
  {
   "cell_type": "code",
   "execution_count": null,
   "metadata": {},
   "outputs": [],
   "source": []
  }
 ],
 "metadata": {
  "kernelspec": {
   "display_name": "Python 2",
   "language": "python",
   "name": "python2"
  },
  "language_info": {
   "codemirror_mode": {
    "name": "ipython",
    "version": 2
   },
   "file_extension": ".py",
   "mimetype": "text/x-python",
   "name": "python",
   "nbconvert_exporter": "python",
   "pygments_lexer": "ipython2",
   "version": "2.7.6"
  }
 },
 "nbformat": 4,
 "nbformat_minor": 0
}
